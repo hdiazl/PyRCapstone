{
 "cells": [
  {
   "cell_type": "markdown",
   "metadata": {},
   "source": [
    "# Question 1 - What is the Top Complaint Type?\n",
    "\n",
    "Which type of complaint should the Department of Housing Preservation and Development of New York City focus on first?\n",
    "\n",
    "- Read back the 311 datasets that you stored in Cloud Object Store and explore the dataset.\n",
    "\n",
    "- Figure out the correct Complaint Type that the Department of Housing Preservation and Development of New York City should focus on.\n",
    "\n",
    "Import libraries\n",
    "\n",
    "Get the 311 File from:\n",
    "https://data.cityofnewyork.us/Social-Services/311-Service-Requests-from-2010-to-Present/erm2-nwe9\n",
    "\n",
    "Filtered data\n",
    "https://data.cityofnewyork.us/resource/fhrw-4uyv.csv?$limit=100000000&Agency=HPD&$select=created_date,unique_key,complaint_type,incident_zip,incident_address,street_name,address_type,city,resolution_description,borough,latitude,longitude,closed_date,location_type,status\n",
    "\n",
    "Code:\n",
    "DHPD_df = pd.read_csv(\"https://data.cityofnewyork.us/resource/fhrw-4uyv.csv?$limit=100000000&Agency=HPD&$select=created_date,unique_key,complaint_type,incident_zip,incident_address,street_name,address_type,city,resolution_description,borough,latitude,longitude,closed_date,location_type,status\", parse_dates=True)\n",
    "DHPD_df.head(5)\n",
    "\n",
    "\n"
   ]
  },
  {
   "cell_type": "markdown",
   "metadata": {},
   "source": [
    "## Import libraries"
   ]
  },
  {
   "cell_type": "code",
   "execution_count": 104,
   "metadata": {},
   "outputs": [],
   "source": [
    "import types\n",
    "import pandas as pd\n",
    "from botocore.client import Config\n",
    "import ibm_boto3\n",
    "import matplotlib.pyplot as plt"
   ]
  },
  {
   "cell_type": "markdown",
   "metadata": {},
   "source": [
    "### Setup credentials..."
   ]
  },
  {
   "cell_type": "code",
   "execution_count": 105,
   "metadata": {},
   "outputs": [],
   "source": [
    "def __iter__(self): return 0\n",
    "\n",
    "# @hidden_cell\n",
    "# The following code accesses a file in your IBM Cloud Object Storage. It includes your credentials.\n",
    "# You might want to remove those credentials before you share your notebook.\n",
    "#\n",
    "\n",
    "####### for sharing,  remove the api_key_id\n",
    "       \n",
    "\n",
    "client_bf9442079d134648bf58e1a33c4d0949 = ibm_boto3.client(service_name='s3',\n",
    "    ibm_api_key_id='<**REPLACE_WITH_YOUR_IBM_API_KEY_ID**>',\n",
    "    ibm_auth_endpoint=\"https://iam.ng.bluemix.net/oidc/token\",\n",
    "    config=Config(signature_version='oauth'),\n",
    "    endpoint_url='https://s3-api.us-geo.objectstorage.service.networklayer.com')\n",
    "\n",
    "body = client_bf9442079d134648bf58e1a33c4d0949.get_object(Bucket='edxcapstone-donotdelete-pr-esmvpgbhnmenoy',Key='nyc-311-dataset-parsed.csv')['Body']\n",
    "# add missing __iter__ method, so pandas accepts body as file-like object\n",
    "if not hasattr(body, \"__iter__\"): body.__iter__ = types.MethodType( __iter__, body )\n"
   ]
  },
  {
   "cell_type": "markdown",
   "metadata": {},
   "source": [
    "### Read 311 data"
   ]
  },
  {
   "cell_type": "code",
   "execution_count": 106,
   "metadata": {},
   "outputs": [
    {
     "data": {
      "text/html": [
       "<div>\n",
       "<style scoped>\n",
       "    .dataframe tbody tr th:only-of-type {\n",
       "        vertical-align: middle;\n",
       "    }\n",
       "\n",
       "    .dataframe tbody tr th {\n",
       "        vertical-align: top;\n",
       "    }\n",
       "\n",
       "    .dataframe thead th {\n",
       "        text-align: right;\n",
       "    }\n",
       "</style>\n",
       "<table border=\"1\" class=\"dataframe\">\n",
       "  <thead>\n",
       "    <tr style=\"text-align: right;\">\n",
       "      <th></th>\n",
       "      <th>Unnamed: 0</th>\n",
       "      <th>created_date</th>\n",
       "      <th>unique_key</th>\n",
       "      <th>complaint_type</th>\n",
       "      <th>incident_zip</th>\n",
       "      <th>incident_address</th>\n",
       "      <th>street_name</th>\n",
       "      <th>address_type</th>\n",
       "      <th>city</th>\n",
       "      <th>resolution_description</th>\n",
       "      <th>borough</th>\n",
       "      <th>latitude</th>\n",
       "      <th>longitude</th>\n",
       "      <th>closed_date</th>\n",
       "      <th>location_type</th>\n",
       "      <th>status</th>\n",
       "    </tr>\n",
       "  </thead>\n",
       "  <tbody>\n",
       "    <tr>\n",
       "      <th>0</th>\n",
       "      <td>0</td>\n",
       "      <td>2019-03-23T19:28:55.000</td>\n",
       "      <td>42034156</td>\n",
       "      <td>HEAT/HOT WATER</td>\n",
       "      <td>10032.0</td>\n",
       "      <td>835 RIVERSIDE DRIVE</td>\n",
       "      <td>RIVERSIDE DRIVE</td>\n",
       "      <td>ADDRESS</td>\n",
       "      <td>NEW YORK</td>\n",
       "      <td>The Department of Housing Preservation and Dev...</td>\n",
       "      <td>MANHATTAN</td>\n",
       "      <td>40.836079</td>\n",
       "      <td>-73.946179</td>\n",
       "      <td>2019-03-27T08:17:34.000</td>\n",
       "      <td>RESIDENTIAL BUILDING</td>\n",
       "      <td>Closed</td>\n",
       "    </tr>\n",
       "    <tr>\n",
       "      <th>1</th>\n",
       "      <td>1</td>\n",
       "      <td>2019-03-23T17:05:17.000</td>\n",
       "      <td>42034212</td>\n",
       "      <td>UNSANITARY CONDITION</td>\n",
       "      <td>11225.0</td>\n",
       "      <td>348 MAPLE STREET</td>\n",
       "      <td>MAPLE STREET</td>\n",
       "      <td>ADDRESS</td>\n",
       "      <td>BROOKLYN</td>\n",
       "      <td>The Department of Housing Preservation and Dev...</td>\n",
       "      <td>BROOKLYN</td>\n",
       "      <td>40.660905</td>\n",
       "      <td>-73.949222</td>\n",
       "      <td>2019-03-27T07:51:44.000</td>\n",
       "      <td>RESIDENTIAL BUILDING</td>\n",
       "      <td>Closed</td>\n",
       "    </tr>\n",
       "    <tr>\n",
       "      <th>2</th>\n",
       "      <td>2</td>\n",
       "      <td>2019-03-23T17:25:14.000</td>\n",
       "      <td>42034245</td>\n",
       "      <td>WATER LEAK</td>\n",
       "      <td>10460.0</td>\n",
       "      <td>783 GROTE STREET</td>\n",
       "      <td>GROTE STREET</td>\n",
       "      <td>ADDRESS</td>\n",
       "      <td>BRONX</td>\n",
       "      <td>The Department of Housing Preservation and Dev...</td>\n",
       "      <td>BRONX</td>\n",
       "      <td>40.850269</td>\n",
       "      <td>-73.882685</td>\n",
       "      <td>2019-03-28T14:05:19.000</td>\n",
       "      <td>RESIDENTIAL BUILDING</td>\n",
       "      <td>Closed</td>\n",
       "    </tr>\n",
       "    <tr>\n",
       "      <th>3</th>\n",
       "      <td>3</td>\n",
       "      <td>2019-03-23T10:27:32.000</td>\n",
       "      <td>42034339</td>\n",
       "      <td>ELECTRIC</td>\n",
       "      <td>10468.0</td>\n",
       "      <td>2800 JEROME AVENUE</td>\n",
       "      <td>JEROME AVENUE</td>\n",
       "      <td>ADDRESS</td>\n",
       "      <td>BRONX</td>\n",
       "      <td>The Department of Housing Preservation and Dev...</td>\n",
       "      <td>BRONX</td>\n",
       "      <td>40.870341</td>\n",
       "      <td>-73.894718</td>\n",
       "      <td>2019-04-08T10:08:17.000</td>\n",
       "      <td>RESIDENTIAL BUILDING</td>\n",
       "      <td>Closed</td>\n",
       "    </tr>\n",
       "    <tr>\n",
       "      <th>4</th>\n",
       "      <td>4</td>\n",
       "      <td>2019-03-23T18:07:09.000</td>\n",
       "      <td>42034377</td>\n",
       "      <td>PAINT/PLASTER</td>\n",
       "      <td>10453.0</td>\n",
       "      <td>1775 DAVIDSON AVENUE</td>\n",
       "      <td>DAVIDSON AVENUE</td>\n",
       "      <td>ADDRESS</td>\n",
       "      <td>BRONX</td>\n",
       "      <td>The Department of Housing Preservation and Dev...</td>\n",
       "      <td>BRONX</td>\n",
       "      <td>40.848813</td>\n",
       "      <td>-73.912720</td>\n",
       "      <td>NaN</td>\n",
       "      <td>RESIDENTIAL BUILDING</td>\n",
       "      <td>Open</td>\n",
       "    </tr>\n",
       "  </tbody>\n",
       "</table>\n",
       "</div>"
      ],
      "text/plain": [
       "   Unnamed: 0             created_date  unique_key        complaint_type  \\\n",
       "0           0  2019-03-23T19:28:55.000    42034156        HEAT/HOT WATER   \n",
       "1           1  2019-03-23T17:05:17.000    42034212  UNSANITARY CONDITION   \n",
       "2           2  2019-03-23T17:25:14.000    42034245            WATER LEAK   \n",
       "3           3  2019-03-23T10:27:32.000    42034339              ELECTRIC   \n",
       "4           4  2019-03-23T18:07:09.000    42034377         PAINT/PLASTER   \n",
       "\n",
       "   incident_zip      incident_address      street_name address_type      city  \\\n",
       "0       10032.0   835 RIVERSIDE DRIVE  RIVERSIDE DRIVE      ADDRESS  NEW YORK   \n",
       "1       11225.0      348 MAPLE STREET     MAPLE STREET      ADDRESS  BROOKLYN   \n",
       "2       10460.0      783 GROTE STREET     GROTE STREET      ADDRESS     BRONX   \n",
       "3       10468.0    2800 JEROME AVENUE    JEROME AVENUE      ADDRESS     BRONX   \n",
       "4       10453.0  1775 DAVIDSON AVENUE  DAVIDSON AVENUE      ADDRESS     BRONX   \n",
       "\n",
       "                              resolution_description    borough   latitude  \\\n",
       "0  The Department of Housing Preservation and Dev...  MANHATTAN  40.836079   \n",
       "1  The Department of Housing Preservation and Dev...   BROOKLYN  40.660905   \n",
       "2  The Department of Housing Preservation and Dev...      BRONX  40.850269   \n",
       "3  The Department of Housing Preservation and Dev...      BRONX  40.870341   \n",
       "4  The Department of Housing Preservation and Dev...      BRONX  40.848813   \n",
       "\n",
       "   longitude              closed_date         location_type  status  \n",
       "0 -73.946179  2019-03-27T08:17:34.000  RESIDENTIAL BUILDING  Closed  \n",
       "1 -73.949222  2019-03-27T07:51:44.000  RESIDENTIAL BUILDING  Closed  \n",
       "2 -73.882685  2019-03-28T14:05:19.000  RESIDENTIAL BUILDING  Closed  \n",
       "3 -73.894718  2019-04-08T10:08:17.000  RESIDENTIAL BUILDING  Closed  \n",
       "4 -73.912720                      NaN  RESIDENTIAL BUILDING    Open  "
      ]
     },
     "execution_count": 106,
     "metadata": {},
     "output_type": "execute_result"
    }
   ],
   "source": [
    "df_311_raw = pd.read_csv(body)\n",
    "df_311_raw.head()"
   ]
  },
  {
   "cell_type": "markdown",
   "metadata": {},
   "source": [
    "Assignment focuses on identifying the top complaing type.\n",
    "\n",
    "<b>How does data look like if we count complaints?</b><br>\n",
    "Count will be available in a column name: <b>complaint-type-total</b>"
   ]
  },
  {
   "cell_type": "code",
   "execution_count": 107,
   "metadata": {},
   "outputs": [],
   "source": [
    "df_311_grouped = df_311_raw.groupby(['complaint_type']).count()\n",
    "df_311_grouped.rename(columns={\"Unnamed: 0\": \"complaint-type-total\"}, inplace=True)"
   ]
  },
  {
   "cell_type": "markdown",
   "metadata": {},
   "source": [
    "Let's take a look at the head of the results"
   ]
  },
  {
   "cell_type": "code",
   "execution_count": 108,
   "metadata": {},
   "outputs": [
    {
     "data": {
      "text/html": [
       "<div>\n",
       "<style scoped>\n",
       "    .dataframe tbody tr th:only-of-type {\n",
       "        vertical-align: middle;\n",
       "    }\n",
       "\n",
       "    .dataframe tbody tr th {\n",
       "        vertical-align: top;\n",
       "    }\n",
       "\n",
       "    .dataframe thead th {\n",
       "        text-align: right;\n",
       "    }\n",
       "</style>\n",
       "<table border=\"1\" class=\"dataframe\">\n",
       "  <thead>\n",
       "    <tr style=\"text-align: right;\">\n",
       "      <th></th>\n",
       "      <th>complaint-type-total</th>\n",
       "      <th>created_date</th>\n",
       "      <th>unique_key</th>\n",
       "      <th>incident_zip</th>\n",
       "      <th>incident_address</th>\n",
       "      <th>street_name</th>\n",
       "      <th>address_type</th>\n",
       "      <th>city</th>\n",
       "      <th>resolution_description</th>\n",
       "      <th>borough</th>\n",
       "      <th>latitude</th>\n",
       "      <th>longitude</th>\n",
       "      <th>closed_date</th>\n",
       "      <th>location_type</th>\n",
       "      <th>status</th>\n",
       "    </tr>\n",
       "    <tr>\n",
       "      <th>complaint_type</th>\n",
       "      <th></th>\n",
       "      <th></th>\n",
       "      <th></th>\n",
       "      <th></th>\n",
       "      <th></th>\n",
       "      <th></th>\n",
       "      <th></th>\n",
       "      <th></th>\n",
       "      <th></th>\n",
       "      <th></th>\n",
       "      <th></th>\n",
       "      <th></th>\n",
       "      <th></th>\n",
       "      <th></th>\n",
       "      <th></th>\n",
       "    </tr>\n",
       "  </thead>\n",
       "  <tbody>\n",
       "    <tr>\n",
       "      <th>AGENCY</th>\n",
       "      <td>9</td>\n",
       "      <td>9</td>\n",
       "      <td>9</td>\n",
       "      <td>8</td>\n",
       "      <td>9</td>\n",
       "      <td>9</td>\n",
       "      <td>8</td>\n",
       "      <td>8</td>\n",
       "      <td>9</td>\n",
       "      <td>9</td>\n",
       "      <td>8</td>\n",
       "      <td>8</td>\n",
       "      <td>9</td>\n",
       "      <td>9</td>\n",
       "      <td>9</td>\n",
       "    </tr>\n",
       "    <tr>\n",
       "      <th>APPLIANCE</th>\n",
       "      <td>108869</td>\n",
       "      <td>108869</td>\n",
       "      <td>108869</td>\n",
       "      <td>108717</td>\n",
       "      <td>108869</td>\n",
       "      <td>108869</td>\n",
       "      <td>108773</td>\n",
       "      <td>108733</td>\n",
       "      <td>108844</td>\n",
       "      <td>108869</td>\n",
       "      <td>108717</td>\n",
       "      <td>108717</td>\n",
       "      <td>105493</td>\n",
       "      <td>108869</td>\n",
       "      <td>108869</td>\n",
       "    </tr>\n",
       "    <tr>\n",
       "      <th>Appliance</th>\n",
       "      <td>2</td>\n",
       "      <td>2</td>\n",
       "      <td>2</td>\n",
       "      <td>2</td>\n",
       "      <td>2</td>\n",
       "      <td>2</td>\n",
       "      <td>0</td>\n",
       "      <td>2</td>\n",
       "      <td>0</td>\n",
       "      <td>2</td>\n",
       "      <td>2</td>\n",
       "      <td>2</td>\n",
       "      <td>2</td>\n",
       "      <td>2</td>\n",
       "      <td>2</td>\n",
       "    </tr>\n",
       "    <tr>\n",
       "      <th>CONSTRUCTION</th>\n",
       "      <td>5078</td>\n",
       "      <td>5078</td>\n",
       "      <td>5078</td>\n",
       "      <td>5044</td>\n",
       "      <td>5078</td>\n",
       "      <td>5078</td>\n",
       "      <td>5057</td>\n",
       "      <td>5044</td>\n",
       "      <td>5062</td>\n",
       "      <td>5078</td>\n",
       "      <td>5044</td>\n",
       "      <td>5044</td>\n",
       "      <td>4821</td>\n",
       "      <td>5078</td>\n",
       "      <td>5078</td>\n",
       "    </tr>\n",
       "    <tr>\n",
       "      <th>DOOR/WINDOW</th>\n",
       "      <td>198517</td>\n",
       "      <td>198517</td>\n",
       "      <td>198517</td>\n",
       "      <td>198373</td>\n",
       "      <td>198517</td>\n",
       "      <td>198517</td>\n",
       "      <td>198438</td>\n",
       "      <td>198389</td>\n",
       "      <td>198513</td>\n",
       "      <td>198517</td>\n",
       "      <td>198373</td>\n",
       "      <td>198373</td>\n",
       "      <td>197580</td>\n",
       "      <td>198517</td>\n",
       "      <td>198517</td>\n",
       "    </tr>\n",
       "    <tr>\n",
       "      <th>ELECTRIC</th>\n",
       "      <td>302199</td>\n",
       "      <td>302199</td>\n",
       "      <td>302199</td>\n",
       "      <td>301339</td>\n",
       "      <td>302199</td>\n",
       "      <td>302199</td>\n",
       "      <td>301530</td>\n",
       "      <td>301362</td>\n",
       "      <td>302155</td>\n",
       "      <td>302199</td>\n",
       "      <td>301341</td>\n",
       "      <td>301341</td>\n",
       "      <td>293746</td>\n",
       "      <td>302199</td>\n",
       "      <td>302199</td>\n",
       "    </tr>\n",
       "    <tr>\n",
       "      <th>ELEVATOR</th>\n",
       "      <td>6332</td>\n",
       "      <td>6332</td>\n",
       "      <td>6332</td>\n",
       "      <td>6327</td>\n",
       "      <td>6332</td>\n",
       "      <td>6332</td>\n",
       "      <td>6328</td>\n",
       "      <td>6327</td>\n",
       "      <td>6332</td>\n",
       "      <td>6332</td>\n",
       "      <td>6327</td>\n",
       "      <td>6327</td>\n",
       "      <td>6293</td>\n",
       "      <td>6332</td>\n",
       "      <td>6332</td>\n",
       "    </tr>\n",
       "    <tr>\n",
       "      <th>FLOORING/STAIRS</th>\n",
       "      <td>134756</td>\n",
       "      <td>134756</td>\n",
       "      <td>134756</td>\n",
       "      <td>134667</td>\n",
       "      <td>134756</td>\n",
       "      <td>134756</td>\n",
       "      <td>134701</td>\n",
       "      <td>134668</td>\n",
       "      <td>134752</td>\n",
       "      <td>134756</td>\n",
       "      <td>134667</td>\n",
       "      <td>134667</td>\n",
       "      <td>134077</td>\n",
       "      <td>134756</td>\n",
       "      <td>134756</td>\n",
       "    </tr>\n",
       "    <tr>\n",
       "      <th>GENERAL</th>\n",
       "      <td>144939</td>\n",
       "      <td>144939</td>\n",
       "      <td>144939</td>\n",
       "      <td>144807</td>\n",
       "      <td>144939</td>\n",
       "      <td>144939</td>\n",
       "      <td>144845</td>\n",
       "      <td>144811</td>\n",
       "      <td>144932</td>\n",
       "      <td>144939</td>\n",
       "      <td>144807</td>\n",
       "      <td>144807</td>\n",
       "      <td>144122</td>\n",
       "      <td>144939</td>\n",
       "      <td>144939</td>\n",
       "    </tr>\n",
       "    <tr>\n",
       "      <th>GENERAL CONSTRUCTION</th>\n",
       "      <td>500863</td>\n",
       "      <td>500863</td>\n",
       "      <td>500863</td>\n",
       "      <td>498752</td>\n",
       "      <td>500863</td>\n",
       "      <td>500863</td>\n",
       "      <td>499073</td>\n",
       "      <td>498757</td>\n",
       "      <td>500728</td>\n",
       "      <td>500863</td>\n",
       "      <td>498757</td>\n",
       "      <td>498757</td>\n",
       "      <td>473118</td>\n",
       "      <td>500863</td>\n",
       "      <td>500863</td>\n",
       "    </tr>\n",
       "  </tbody>\n",
       "</table>\n",
       "</div>"
      ],
      "text/plain": [
       "                      complaint-type-total  created_date  unique_key  \\\n",
       "complaint_type                                                         \n",
       "AGENCY                                   9             9           9   \n",
       "APPLIANCE                           108869        108869      108869   \n",
       "Appliance                                2             2           2   \n",
       "CONSTRUCTION                          5078          5078        5078   \n",
       "DOOR/WINDOW                         198517        198517      198517   \n",
       "ELECTRIC                            302199        302199      302199   \n",
       "ELEVATOR                              6332          6332        6332   \n",
       "FLOORING/STAIRS                     134756        134756      134756   \n",
       "GENERAL                             144939        144939      144939   \n",
       "GENERAL CONSTRUCTION                500863        500863      500863   \n",
       "\n",
       "                      incident_zip  incident_address  street_name  \\\n",
       "complaint_type                                                      \n",
       "AGENCY                           8                 9            9   \n",
       "APPLIANCE                   108717            108869       108869   \n",
       "Appliance                        2                 2            2   \n",
       "CONSTRUCTION                  5044              5078         5078   \n",
       "DOOR/WINDOW                 198373            198517       198517   \n",
       "ELECTRIC                    301339            302199       302199   \n",
       "ELEVATOR                      6327              6332         6332   \n",
       "FLOORING/STAIRS             134667            134756       134756   \n",
       "GENERAL                     144807            144939       144939   \n",
       "GENERAL CONSTRUCTION        498752            500863       500863   \n",
       "\n",
       "                      address_type    city  resolution_description  borough  \\\n",
       "complaint_type                                                                \n",
       "AGENCY                           8       8                       9        9   \n",
       "APPLIANCE                   108773  108733                  108844   108869   \n",
       "Appliance                        0       2                       0        2   \n",
       "CONSTRUCTION                  5057    5044                    5062     5078   \n",
       "DOOR/WINDOW                 198438  198389                  198513   198517   \n",
       "ELECTRIC                    301530  301362                  302155   302199   \n",
       "ELEVATOR                      6328    6327                    6332     6332   \n",
       "FLOORING/STAIRS             134701  134668                  134752   134756   \n",
       "GENERAL                     144845  144811                  144932   144939   \n",
       "GENERAL CONSTRUCTION        499073  498757                  500728   500863   \n",
       "\n",
       "                      latitude  longitude  closed_date  location_type  status  \n",
       "complaint_type                                                                 \n",
       "AGENCY                       8          8            9              9       9  \n",
       "APPLIANCE               108717     108717       105493         108869  108869  \n",
       "Appliance                    2          2            2              2       2  \n",
       "CONSTRUCTION              5044       5044         4821           5078    5078  \n",
       "DOOR/WINDOW             198373     198373       197580         198517  198517  \n",
       "ELECTRIC                301341     301341       293746         302199  302199  \n",
       "ELEVATOR                  6327       6327         6293           6332    6332  \n",
       "FLOORING/STAIRS         134667     134667       134077         134756  134756  \n",
       "GENERAL                 144807     144807       144122         144939  144939  \n",
       "GENERAL CONSTRUCTION    498757     498757       473118         500863  500863  "
      ]
     },
     "execution_count": 108,
     "metadata": {},
     "output_type": "execute_result"
    }
   ],
   "source": [
    "df_311_grouped.head(10)"
   ]
  },
  {
   "cell_type": "markdown",
   "metadata": {},
   "source": [
    "Let's sort the values in a descencing order using the newly created column with the total column (complaint-type-total)."
   ]
  },
  {
   "cell_type": "code",
   "execution_count": 109,
   "metadata": {},
   "outputs": [],
   "source": [
    "df_311_grouped.sort_values(by='complaint-type-total', ascending=False, axis=0, inplace=True)"
   ]
  },
  {
   "cell_type": "markdown",
   "metadata": {},
   "source": [
    "Let's take a look of the top 20 complaint types"
   ]
  },
  {
   "cell_type": "code",
   "execution_count": 110,
   "metadata": {},
   "outputs": [
    {
     "data": {
      "text/plain": [
       "complaint_type\n",
       "HEAT/HOT WATER            1148281\n",
       "HEATING                    887869\n",
       "PLUMBING                   700633\n",
       "GENERAL CONSTRUCTION       500863\n",
       "UNSANITARY CONDITION       431369\n",
       "PAINT - PLASTER            361258\n",
       "PAINT/PLASTER              339737\n",
       "ELECTRIC                   302199\n",
       "NONCONST                   260890\n",
       "DOOR/WINDOW                198517\n",
       "WATER LEAK                 185620\n",
       "GENERAL                    144939\n",
       "FLOORING/STAIRS            134756\n",
       "APPLIANCE                  108869\n",
       "HPD Literature Request      52830\n",
       "SAFETY                      49582\n",
       "OUTSIDE BUILDING             6989\n",
       "ELEVATOR                     6332\n",
       "Unsanitary Condition         5494\n",
       "CONSTRUCTION                 5078\n",
       "Name: complaint-type-total, dtype: int64"
      ]
     },
     "execution_count": 110,
     "metadata": {},
     "output_type": "execute_result"
    }
   ],
   "source": [
    "df_311_grouped[\"complaint-type-total\"].head(20)"
   ]
  },
  {
   "cell_type": "markdown",
   "metadata": {},
   "source": [
    "# Visualization of the results per complaint type"
   ]
  },
  {
   "cell_type": "code",
   "execution_count": 111,
   "metadata": {},
   "outputs": [
    {
     "data": {
      "text/plain": [
       "<matplotlib.axes._subplots.AxesSubplot at 0x7f413f441080>"
      ]
     },
     "execution_count": 111,
     "metadata": {},
     "output_type": "execute_result"
    },
    {
     "data": {
      "image/png": "[encoded data removed]",
      "text/plain": [
       "<Figure size 720x720 with 1 Axes>"
      ]
     },
     "metadata": {
      "needs_background": "light"
     },
     "output_type": "display_data"
    }
   ],
   "source": [
    "df_311_complaints = pd.DataFrame(df_311_grouped[\"complaint-type-total\"])\n",
    "df_311_complaints.plot(kind=\"bar\", figsize=(10,10), title=\"Top Complaints\")"
   ]
  },
  {
   "cell_type": "markdown",
   "metadata": {},
   "source": [
    "There seems to be some categories split in different types of complaints:\n",
    "- Heat/Hot Water with Heating\n",
    "- Paint - Plaster with Paint/Plaster\n",
    "\n",
    "Let's consolidate the total for those types that seem to be of the same category"
   ]
  },
  {
   "cell_type": "code",
   "execution_count": 112,
   "metadata": {},
   "outputs": [
    {
     "name": "stdout",
     "output_type": "stream",
     "text": [
      "HEAT/HOT WATER + HEATING: 2036150\n",
      "PAINT - PLASTER + PAINT/PLASTER: 700995\n"
     ]
    }
   ],
   "source": [
    "HEAT_TOTAL = df_311_complaints['complaint-type-total']['HEAT/HOT WATER'] + df_311_complaints['complaint-type-total']['HEATING']\n",
    "PP_TOTAL = df_311_complaints['complaint-type-total']['PAINT - PLASTER'] + df_311_complaints['complaint-type-total']['PAINT/PLASTER']\n",
    "print (\"%s%s\" % (\"HEAT/HOT WATER + HEATING: \", HEAT_TOTAL))\n",
    "print (\"%s%s\" % (\"PAINT - PLASTER + PAINT/PLASTER: \", PP_TOTAL))"
   ]
  },
  {
   "cell_type": "markdown",
   "metadata": {},
   "source": [
    "### Visualize results"
   ]
  },
  {
   "cell_type": "code",
   "execution_count": 113,
   "metadata": {},
   "outputs": [
    {
     "data": {
      "text/plain": [
       "<matplotlib.axes._subplots.AxesSubplot at 0x7f412e301550>"
      ]
     },
     "execution_count": 113,
     "metadata": {},
     "output_type": "execute_result"
    },
    {
     "data": {
      "image/png": "[encoded data removed]",
      "text/plain": [
       "<Figure size 720x360 with 1 Axes>"
      ]
     },
     "metadata": {
      "needs_background": "light"
     },
     "output_type": "display_data"
    }
   ],
   "source": [
    "arr_consolidated[0][0] = \"HEAT/HOT WATER & HEATING\"\n",
    "arr_consolidated[0][1] = HEAT_TOTAL\n",
    "arr_consolidated[1][0] = \"PAINT - PLASTER & PAINT/PLASTER\"\n",
    "arr_consolidated[1][1] = PP_TOTAL\n",
    "df_consolidated = pd.DataFrame(arr_consolidated)\n",
    "df_consolidated.plot(kind=\"barh\", x=0, title=\"Top Consolidated complaints\", legend=False, figsize=(10,5))"
   ]
  },
  {
   "cell_type": "markdown",
   "metadata": {},
   "source": [
    "# Conclusion "
   ]
  },
  {
   "cell_type": "markdown",
   "metadata": {},
   "source": [
    "- <b>Top Complaints</b> chart shows that <b><HEAT/HOT WATER</b> is clearly the TOP complaint type\n",
    "- There were some <b> complaint-types</b> that looked with a similar description"
   ]
  },
  {
   "cell_type": "markdown",
   "metadata": {},
   "source": [
    "<ul> Consolidating similar description complaints, did not change the initial conclusion as shown on <b> Top Consolidated complaints </b> chart.</ul>"
   ]
  }
 ],
 "metadata": {
  "kernelspec": {
   "display_name": "Python 3.6",
   "language": "python",
   "name": "python3"
  },
  "language_info": {
   "codemirror_mode": {
    "name": "ipython",
    "version": 3
   },
   "file_extension": ".py",
   "mimetype": "text/x-python",
   "name": "python",
   "nbconvert_exporter": "python",
   "pygments_lexer": "ipython3",
   "version": "3.6.8"
  }
 },
 "nbformat": 4,
 "nbformat_minor": 1
}
